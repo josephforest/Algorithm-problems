{
 "cells": [
  {
   "cell_type": "code",
   "execution_count": null,
   "metadata": {},
   "outputs": [],
   "source": [
    "12 saatlik formatta verilen stringi 24 saatlik formata, \n",
    "eğer 24 saatlik verilmişse 12 saate çeviren fonksiyon yazalım.\n",
    "print(saat_cevir(\"12:00 am\")) -->00:00\n",
    "print(saat_cevir(\"15:15\")) --> 3:15 pm\n",
    "print(saat_cevir(\"2:00\")) --> 2:00 am\n",
    "print(saat_cevir(\"2:00 pm\")) -->14:00"
   ]
  },
  {
   "cell_type": "code",
   "execution_count": 36,
   "metadata": {},
   "outputs": [],
   "source": [
    "def saat_cevir(args):\n",
    "    data = args.split(\":\")\n",
    "    result = \"\"\n",
    "    if int(data[0]) == 12:\n",
    "        data[0] = \"00\"\n",
    "        print(data[0]+\":\"+data[1])\n",
    "        \n",
    "    elif int(data[0]) > 12:\n",
    "        data[0] =  int(data[0]) - 12\n",
    "        data[0] = str(data[0])\n",
    "        result = data[0]+\":\"+data[1]+\" pm\"\n",
    "        return result\n",
    "    \n",
    "    elif int(data[0]) < 12:\n",
    "        print(args,\"am\")"
   ]
  },
  {
   "cell_type": "code",
   "execution_count": 38,
   "metadata": {},
   "outputs": [
    {
     "data": {
      "text/plain": [
       "'10:00 pm'"
      ]
     },
     "execution_count": 38,
     "metadata": {},
     "output_type": "execute_result"
    }
   ],
   "source": [
    "saat_cevir(\"22:00\")"
   ]
  },
  {
   "cell_type": "code",
   "execution_count": null,
   "metadata": {},
   "outputs": [],
   "source": []
  },
  {
   "cell_type": "code",
   "execution_count": null,
   "metadata": {},
   "outputs": [],
   "source": [
    "This problem was asked by Microsoft.:sunglasses:\n",
    "Compute the running median of a sequence of numbers. That is, given a stream of numbers,\n",
    "print out the median of the list so far on each new element.\n",
    "Recall that the median of an even-numbered list is the average of the two middle numbers.\n",
    "For example, given the sequence [2, 1, 5, 7, 2, 0, 5], your algorithm should print out:\n",
    "2\n",
    "1.5\n",
    "2\n",
    "3.5\n",
    "2\n",
    "2\n",
    "2"
   ]
  },
  {
   "cell_type": "code",
   "execution_count": 38,
   "metadata": {
    "scrolled": false
   },
   "outputs": [],
   "source": [
    "def median(args):\n",
    "    lenght = len(res)\n",
    "    if len(args) == 1:\n",
    "        return args[0]\n",
    "    elif len(args) == 2:\n",
    "        return sum(args)/2\n",
    "    elif len(args) > 2:\n",
    "        if len(args)%2:\n",
    "            return args[len(res)//2]\n",
    "        else:\n",
    "            return (res[lenght//2]+res[lenght//2-1])/2\n",
    "                "
   ]
  },
  {
   "cell_type": "code",
   "execution_count": 27,
   "metadata": {},
   "outputs": [
    {
     "data": {
      "text/plain": [
       "True"
      ]
     },
     "execution_count": 27,
     "metadata": {},
     "output_type": "execute_result"
    }
   ],
   "source": [
    "3.0 == 3"
   ]
  },
  {
   "cell_type": "code",
   "execution_count": null,
   "metadata": {},
   "outputs": [],
   "source": [
    "{1,2,3} generate subset {{}, {1}, {2}, {3}, {1, 2}, {1, 3}, {2, 3}, {1, 2, 3}}"
   ]
  },
  {
   "cell_type": "code",
   "execution_count": 17,
   "metadata": {},
   "outputs": [],
   "source": [
    "from itertools import permutations"
   ]
  },
  {
   "cell_type": "code",
   "execution_count": 19,
   "metadata": {},
   "outputs": [
    {
     "data": {
      "text/plain": [
       "{(1, 2, 3), (1, 3, 2), (2, 1, 3), (2, 3, 1), (3, 1, 2), (3, 2, 1)}"
      ]
     },
     "execution_count": 19,
     "metadata": {},
     "output_type": "execute_result"
    }
   ],
   "source": [
    "set(permutations({1,2,3}))"
   ]
  },
  {
   "cell_type": "code",
   "execution_count": 13,
   "metadata": {},
   "outputs": [
    {
     "data": {
      "text/plain": [
       "[[2, 1], [3, 1], [3, 2]]"
      ]
     },
     "execution_count": 13,
     "metadata": {},
     "output_type": "execute_result"
    }
   ],
   "source": [
    "result = []\n",
    "a = [1,2,3]\n",
    "for i in range(len(a)):\n",
    "    for j in range(i):\n",
    "        result.append([a[i],a[j]])\n",
    "result\n",
    "        "
   ]
  },
  {
   "cell_type": "code",
   "execution_count": 8,
   "metadata": {},
   "outputs": [
    {
     "data": {
      "text/plain": [
       "[[], [1], [1, 2]]"
      ]
     },
     "execution_count": 8,
     "metadata": {},
     "output_type": "execute_result"
    }
   ],
   "source": [
    "subset({1,2,3})"
   ]
  },
  {
   "cell_type": "code",
   "execution_count": null,
   "metadata": {},
   "outputs": [],
   "source": [
    "implement division of two positive integers without using the division, \n",
    "multiplication, or modulus operators. Return the quotient as an integer, \n",
    "ignoring the remainder"
   ]
  },
  {
   "cell_type": "code",
   "execution_count": 1,
   "metadata": {},
   "outputs": [],
   "source": [
    "def primitive_div(a,b):\n",
    "    return len([i for i in range(a,0,-b) if i >= b])"
   ]
  },
  {
   "cell_type": "code",
   "execution_count": null,
   "metadata": {},
   "outputs": [],
   "source": [
    "Given an array of integers where every integer occurs three times except for one integer,\n",
    "which only occurs once, find and return the non-duplicated integer.\n",
    "For example, given [6, 1, 3, 3, 3, 6, 6], return 1. Given [13, 19, 13, 13], return 19.\n",
    "This problem was asked by Google."
   ]
  },
  {
   "cell_type": "code",
   "execution_count": 2,
   "metadata": {},
   "outputs": [
    {
     "data": {
      "text/plain": [
       "1"
      ]
     },
     "execution_count": 2,
     "metadata": {},
     "output_type": "execute_result"
    }
   ],
   "source": [
    "min([6, 1, 3, 3, 3, 6, 6], key = [6, 1, 3, 3, 3, 6, 6].count)"
   ]
  },
  {
   "cell_type": "code",
   "execution_count": null,
   "metadata": {},
   "outputs": [],
   "source": [
    "The power set of a set is the set of all its subsets. \n",
    "Write a function that, given a set, generates its power set.\n",
    "For example, given the set {1,\n",
    "2, 3}, it should return {{}, {1}, {2}, {3}, {1, 2}, {1, 3}, {2, 3}, {1, 2, 3}}.\n",
    "You may also use a list or array to represent a set."
   ]
  },
  {
   "cell_type": "code",
   "execution_count": null,
   "metadata": {},
   "outputs": [],
   "source": [
    "array = {1,2,3}\n",
    "power_set=[[]]\n",
    "for i in array:\n",
    "  #power_set.append([i])\n",
    "  for j in power_set:\n",
    "    power_set= power_set +  [list(j)+[i]]\n",
    "print(power_set)"
   ]
  }
 ],
 "metadata": {
  "kernelspec": {
   "display_name": "Python 3",
   "language": "python",
   "name": "python3"
  },
  "language_info": {
   "codemirror_mode": {
    "name": "ipython",
    "version": 3
   },
   "file_extension": ".py",
   "mimetype": "text/x-python",
   "name": "python",
   "nbconvert_exporter": "python",
   "pygments_lexer": "ipython3",
   "version": "3.8.5"
  }
 },
 "nbformat": 4,
 "nbformat_minor": 4
}
